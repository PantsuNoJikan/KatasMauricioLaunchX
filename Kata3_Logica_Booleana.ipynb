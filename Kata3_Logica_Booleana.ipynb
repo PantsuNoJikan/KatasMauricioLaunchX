{
 "cells": [
  {
   "cell_type": "markdown",
   "metadata": {},
   "source": [
    "# Kata 3 - Lógica Booleana"
   ]
  },
  {
   "cell_type": "markdown",
   "metadata": {},
   "source": [
    "## Problema n°1"
   ]
  },
  {
   "cell_type": "code",
   "execution_count": 1,
   "metadata": {},
   "outputs": [
    {
     "name": "stdout",
     "output_type": "stream",
     "text": [
      "¡Considerense muertos, mis dulces colegas! ¡Un asteroide se acerca a velocidades peligrosas!\n"
     ]
    }
   ],
   "source": [
    "meteoritoDelMal = 49\n",
    "if meteoritoDelMal > 25:\n",
    "    print('¡Considerense muertos, mis dulces colegas! ¡Un asteroide se acerca a velocidades peligrosas!')\n",
    "else:\n",
    "    print('¡El nieto de Maribel Guardia ya camina solito!')"
   ]
  },
  {
   "cell_type": "code",
   "execution_count": 2,
   "metadata": {},
   "outputs": [
    {
     "name": "stdout",
     "output_type": "stream",
     "text": [
      "¡El nieto de Maribel Guardia ya camina solito!\n"
     ]
    }
   ],
   "source": [
    "meteoritoDelMal = 16\n",
    "if meteoritoDelMal > 25:\n",
    "    print('¡Considerense muertos, mis dulces colegas! ¡Un asteroide se acerca a velocidades peligrosas!')\n",
    "else:\n",
    "    print('¡El nieto de Maribel Guardia ya camina solito!')"
   ]
  },
  {
   "cell_type": "markdown",
   "metadata": {},
   "source": [
    "## Problema n°2"
   ]
  },
  {
   "cell_type": "code",
   "execution_count": 3,
   "metadata": {},
   "outputs": [
    {
     "name": "stdout",
     "output_type": "stream",
     "text": [
      "Vas a ir al concierto de Badbunny?\n"
     ]
    }
   ],
   "source": [
    "meteoritoDemoledor = 19\n",
    "if meteoritoDemoledor > 20:\n",
    "    print('Espero que la luz magica no nos fulmine :c')\n",
    "elif meteoritoDemoledor == 20:\n",
    "    print('Un poco inquietante esa luz magica del cielo')\n",
    "else:\n",
    "    print('Vas a ir al concierto de Badbunny?')"
   ]
  },
  {
   "cell_type": "code",
   "execution_count": 4,
   "metadata": {},
   "outputs": [
    {
     "name": "stdout",
     "output_type": "stream",
     "text": [
      "Espero que la luz magica no nos fulmine :c\n"
     ]
    }
   ],
   "source": [
    "meteoritoDemoledor = 35\n",
    "if meteoritoDemoledor > 20:\n",
    "    print('Espero que la luz magica no nos fulmine :c')\n",
    "elif meteoritoDemoledor == 20:\n",
    "    print('Un poco inquietante esa luz magica del cielo')\n",
    "else:\n",
    "    print('Vas a ir al concierto de Badbunny?')"
   ]
  },
  {
   "cell_type": "code",
   "execution_count": 5,
   "metadata": {},
   "outputs": [
    {
     "name": "stdout",
     "output_type": "stream",
     "text": [
      "Un poco inquietante esa luz magica del cielo\n"
     ]
    }
   ],
   "source": [
    "meteoritoDemoledor = 20\n",
    "if meteoritoDemoledor > 20:\n",
    "    print('Espero que la luz magica no nos fulmine :c')\n",
    "elif meteoritoDemoledor == 20:\n",
    "    print('Un poco inquietante esa luz magica del cielo')\n",
    "else:\n",
    "    print('Vas a ir al concierto de Badbunny?')"
   ]
  },
  {
   "cell_type": "markdown",
   "metadata": {},
   "source": [
    "## Problema n°3"
   ]
  },
  {
   "cell_type": "code",
   "execution_count": 6,
   "metadata": {},
   "outputs": [
    {
     "name": "stdout",
     "output_type": "stream",
     "text": [
      "Chulada la luz magica del cielo\n"
     ]
    }
   ],
   "source": [
    "velocidad_meteoritofulminante = 25\n",
    "tamaño_meteoritofulminante = 40\n",
    "if velocidad_meteoritofulminante > 25 and tamaño_meteoritofulminante > 25:\n",
    "    print('¡Nos veremos del otro lado!, hasta siempre colegas...')\n",
    "elif velocidad_meteoritofulminante >= 20:\n",
    "    print('Chulada la luz magica del cielo')\n",
    "elif tamaño_meteoritofulminante < 25:\n",
    "    print('Una reta de lolsito o que?')\n",
    "else:\n",
    "    print('Una reta de lolsito o que?')"
   ]
  },
  {
   "cell_type": "code",
   "execution_count": 7,
   "metadata": {},
   "outputs": [
    {
     "name": "stdout",
     "output_type": "stream",
     "text": [
      "¡Nos veremos del otro lado!, hasta siempre colegas...\n"
     ]
    }
   ],
   "source": [
    "velocidad_meteoritofulminante = 50\n",
    "tamaño_meteoritofulminante = 40\n",
    "if velocidad_meteoritofulminante > 25 and tamaño_meteoritofulminante > 25:\n",
    "    print('¡Nos veremos del otro lado!, hasta siempre colegas...')\n",
    "elif velocidad_meteoritofulminante >= 20:\n",
    "    print('Chulada la luz magica del cielo')\n",
    "elif tamaño_meteoritofulminante < 25:\n",
    "    print('Una reta de lolsito o que?')\n",
    "else:\n",
    "    print('Una reta de lolsito o que?')"
   ]
  },
  {
   "cell_type": "code",
   "execution_count": 8,
   "metadata": {},
   "outputs": [
    {
     "name": "stdout",
     "output_type": "stream",
     "text": [
      "Una reta de lolsito o que?\n"
     ]
    }
   ],
   "source": [
    "velocidad_meteoritofulminante = 19\n",
    "tamaño_meteoritofulminante = 40\n",
    "if velocidad_meteoritofulminante > 25 and tamaño_meteoritofulminante > 25:\n",
    "    print('¡Nos veremos del otro lado!, hasta siempre colegas...')\n",
    "elif velocidad_meteoritofulminante >= 20:\n",
    "    print('Chulada la luz magica del cielo')\n",
    "elif tamaño_meteoritofulminante < 25:\n",
    "    print('Una reta de lolsito o que?')\n",
    "else:\n",
    "    print('Una reta de lolsito o que?')"
   ]
  }
 ],
 "metadata": {
  "interpreter": {
   "hash": "669f5abd92f1a410df15b0643b9f42360e277a412fc08ae8bc7d7911cf7e8f3d"
  },
  "kernelspec": {
   "display_name": "Python 3.10.2 64-bit",
   "language": "python",
   "name": "python3"
  },
  "language_info": {
   "codemirror_mode": {
    "name": "ipython",
    "version": 3
   },
   "file_extension": ".py",
   "mimetype": "text/x-python",
   "name": "python",
   "nbconvert_exporter": "python",
   "pygments_lexer": "ipython3",
   "version": "3.10.2"
  },
  "orig_nbformat": 4
 },
 "nbformat": 4,
 "nbformat_minor": 2
}
